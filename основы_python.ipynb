{
  "cells": [
    {
      "cell_type": "markdown",
      "metadata": {
        "id": "M-DGa20PaHnu"
      },
      "source": [
        "#Задача 1\n",
        "Написать функцию на вход которой подается строка, состоящая из латинских букв.\n",
        "Функция должна вернуть количество гласных букв (a, e, i, o, u) в этой строке. Написать тесты для кода"
      ]
    },
    {
      "cell_type": "code",
      "execution_count": 62,
      "metadata": {
        "id": "XvX8X_JJ6PCb"
      },
      "outputs": [
        {
          "name": "stdout",
          "output_type": "stream",
          "text": [
            "0\n"
          ]
        }
      ],
      "source": [
        "def count_vowels(string):\n",
        "    alphabet = 'aeiou'\n",
        "    counter = 0\n",
        "    for letter in string:\n",
        "        if letter.lower() in alphabet:\n",
        "            counter += 1\n",
        "    return counter\n",
        "\n",
        "string = str(input())\n",
        "print (count_vowels(string))"
      ]
    },
    {
      "cell_type": "code",
      "execution_count": 63,
      "metadata": {},
      "outputs": [],
      "source": [
        "def test_count_vowels():\n",
        "    #пустая строка\n",
        "    assert(count_vowels('') == 0), \"Должен быть 0\"\n",
        "    #все буквы заглавные\n",
        "    assert(count_vowels('REGINA') == 3), \"Должно быть 3\"\n",
        "    #смешенный регистр\n",
        "    assert(count_vowels('qwertyUIo') == 4), \"Должно быть 4\"\n",
        "    #нет гласных\n",
        "    assert(count_vowels('qswdrthcbvg') == 0), \"Должно быть 0\"\n",
        "    #цифры и спец.символы\n",
        "    assert(count_vowels('1234*&!@#5') == 0), \"Должно быть 0\"\n",
        "    #гласные повтопяются\n",
        "    assert(count_vowels('eeertrtyy') == 3), \"Должно быть 3\"\n",
        "\n",
        "test_count_vowels()\n"
      ]
    },
    {
      "cell_type": "markdown",
      "metadata": {
        "id": "t2ClV_Y0bbr6"
      },
      "source": [
        "# Задача 2\n",
        "Написать функцию на вход, которой подается строка. Функция должна вернуть true, если\n",
        "каждый символ в строке встречается только 1 раз, иначе должна вернуть false. Написать тесты для кода"
      ]
    },
    {
      "cell_type": "code",
      "execution_count": 64,
      "metadata": {
        "id": "FppbECao6VIz"
      },
      "outputs": [
        {
          "name": "stdout",
          "output_type": "stream",
          "text": [
            "True\n"
          ]
        }
      ],
      "source": [
        "#будем считать, что пробел не считается символом и его повторение не должно воззвращать false\n",
        "\n",
        "def is_only_uniq_symb(string):\n",
        "    alphabet = ''\n",
        "    flag = True\n",
        "    for letter in string:\n",
        "        if letter == ' ':\n",
        "            continue\n",
        "        if letter.lower() in alphabet:\n",
        "            flag = False\n",
        "            break\n",
        "        alphabet  += letter.lower()\n",
        "    return(flag)   \n",
        "\n",
        "string = ''\n",
        "print (is_only_uniq_symb(string))"
      ]
    },
    {
      "cell_type": "code",
      "execution_count": 65,
      "metadata": {},
      "outputs": [],
      "source": [
        "def test_count_vowels():\n",
        "    #пустая строка\n",
        "    assert(is_only_uniq_symb('') == True), \"Должен быть True\"\n",
        "    #все буквы заглавные\n",
        "    assert(is_only_uniq_symb('REGINA') == True), \"Должно быть True\"\n",
        "    #смешенный регистр\n",
        "    assert(is_only_uniq_symb('qwertyUIo') == True), \"Должно быть True\"\n",
        "    #все буквы заглавные,но есть повторения\n",
        "    assert(is_only_uniq_symb('AREGINA') == False), \"Должно быть False\"\n",
        "    #смешенный регистр + повторения\n",
        "    assert(is_only_uniq_symb('EiUqwertyUIo') == False), \"Должно быть False\"\n",
        "    #цифры и спец.символы\n",
        "    assert(is_only_uniq_symb('1234*&!@#5') == True), \"Должно быть True\"\n",
        "    #Имеются пробелы\n",
        "    assert(is_only_uniq_symb('qw  ty q') == False), \"Должно быть False\"\n",
        "    #Имеются пробелы\n",
        "    assert(is_only_uniq_symb('qw  ty g') == True), \"Должно быть True\"\n",
        "   \n",
        "\n",
        "test_count_vowels()"
      ]
    },
    {
      "cell_type": "markdown",
      "metadata": {
        "id": "udRiIK1cdt6E"
      },
      "source": [
        "# Задача 3\n",
        "Написать функцию, которая принимает положительное число и возвращает количество\n",
        "бит равных 1 в этом числе. Написать тесты для кода"
      ]
    },
    {
      "cell_type": "code",
      "execution_count": 66,
      "metadata": {
        "id": "6tkfDJRz6dp_"
      },
      "outputs": [],
      "source": [
        "def count_one_bit(number):\n",
        "    if number < 0:\n",
        "        raise ValueError(\"Число должно быть положительным\")\n",
        "    return bin(number).count(\"1\")"
      ]
    },
    {
      "cell_type": "code",
      "execution_count": 67,
      "metadata": {},
      "outputs": [],
      "source": [
        "import pytest\n",
        "\n",
        "def test_count_one_bit():\n",
        "    assert(count_one_bit(0) == 0)\n",
        "    assert(count_one_bit(1) == 1)\n",
        "    assert(count_one_bit(2) == 1)\n",
        "    assert(count_one_bit(3) == 2)\n",
        "    assert(count_one_bit(7) == 3)\n",
        "    assert(count_one_bit(8) == 1)\n",
        "    assert(count_one_bit(15) == 4)\n",
        "    assert(count_one_bit(16) == 1)\n",
        "    assert(count_one_bit(255) == 8)\n",
        "\n",
        "def test_count_ones_negative():\n",
        "    with pytest.raises(ValueError):\n",
        "        count_one_bit(-1)\n",
        "\n",
        "test_count_one_bit()\n",
        "test_count_ones_negative()"
      ]
    },
    {
      "cell_type": "markdown",
      "metadata": {
        "id": "26dDUz-Ae17N"
      },
      "source": [
        "# Задача 4\n",
        "Написать функцию, которая принимает положительное число. Функция должна вернуть то,\n",
        "сколько раз необходимо перемножать цифры числа или результат перемножения, чтобы\n",
        "получилось число состоящее из одной цифры.\n",
        "Например, для входного числа:\n",
        "· 39 функция должна вернуть 3, так как 3*9=27 => 2*7=14 => 1*4=4\n",
        "· 4 функция должна вернуть 0, так как число уже состоит из одной цифры\n",
        "· 999 функция должна вернуть 4, так как 9*9*9=729 => 7*2*9=126 => 1*2*6=12 =>\n",
        "1*2=2. Написать тесты для кода"
      ]
    },
    {
      "cell_type": "code",
      "execution_count": 68,
      "metadata": {
        "id": "BH1A_Mgi6i4G"
      },
      "outputs": [],
      "source": [
        "def magic(n):\n",
        "    if n < 0:\n",
        "        raise ValueError(\"Число должно быть положительным\")\n",
        "    k = 0\n",
        "    while (n >= 10):\n",
        "        string = str(n)\n",
        "        current = 1\n",
        "        for e in string:\n",
        "            current *= int(e)\n",
        "        n = current\n",
        "        k += 1\n",
        "    return k     \n",
        " \n",
        " "
      ]
    },
    {
      "cell_type": "code",
      "execution_count": 69,
      "metadata": {},
      "outputs": [],
      "source": [
        "import pytest\n",
        "\n",
        "def test_magic():\n",
        "    assert(test_magic(0) == 0)\n",
        "    assert(test_magic(154) == 2)\n",
        "    assert(test_magic(11) == 1)\n",
        "    assert(test_magic(10) == 1)\n",
        "    assert(test_magic(29871) == 2)\n",
        "    assert(test_magic(161) == 1)\n",
        "    assert(test_magic(10000000) == 1)\n",
        "\n",
        "\n",
        "\n",
        "def test_magic_negative():\n",
        "    with pytest.raises(ValueError):\n",
        "        count_one_bit(-1)\n",
        "\n",
        "test_count_one_bit()\n",
        "test_magic_negative()"
      ]
    },
    {
      "cell_type": "markdown",
      "metadata": {
        "id": "0nS-kIa8g8vd"
      },
      "source": [
        "# Задача 5\n",
        "Написать функцию, которая принимает два целочисленных вектора одинаковой длины и\n",
        "возвращает среднеквадратическое отклонение двух векторов. Написать тесты для кода"
      ]
    },
    {
      "cell_type": "code",
      "execution_count": 70,
      "metadata": {
        "id": "8iphx4LM6xbx"
      },
      "outputs": [],
      "source": [
        "import math\n",
        "\n",
        "def mse(pred, true):\n",
        "    if len(pred) != len(true):\n",
        "        raise ValueError(\"Векторы должны быть одной длины\")\n",
        "    if len(pred) == 0 :\n",
        "        raise ValueError(\"Векторы не должны быть нулевой длины\")\n",
        "    squared_sum = 0\n",
        "    for i in range (len(pred)):\n",
        "        squared_sum += (pred[i] - true[i]) ** 2\n",
        "    return math.sqrt(squared_sum / len(pred))\n",
        "\n"
      ]
    },
    {
      "cell_type": "code",
      "execution_count": 71,
      "metadata": {},
      "outputs": [],
      "source": [
        "import pytest\n",
        "\n",
        "def test_mse():\n",
        "    v1 = [1, 2, 3, 4, 5]\n",
        "    v2 = [1, 2, 3, 4, 5]\n",
        "    assert(mse(v1,v2) == 0)\n",
        "\n",
        "    v1 = [1, 2, 3]\n",
        "    v2 = [4, 5, 6]\n",
        "    assert(mse(v1,v2) == math.sqrt((9 + 9 + 9) / 3))\n",
        "\n",
        "    v1 = [-1, -2, -3]\n",
        "    v2 = [4, 5, 6]\n",
        "    assert(mse(v1,v2) == math.sqrt((25 + 49 + 81) / 3))\n",
        "\n",
        "\n",
        "def test_mse_different_length():\n",
        "    v1 = [1, 2, 3, 4, 5]\n",
        "    v2 = [1, 2]\n",
        "    with pytest.raises(ValueError):\n",
        "        mse(v1,v2)\n",
        "\n",
        "def test_mse_empty():\n",
        "    v1 = []\n",
        "    v2 = []\n",
        "    with pytest.raises(ValueError):\n",
        "        mse(v1,v2)\n",
        "\n",
        "test_mse()\n",
        "test_mse_different_length()\n",
        "test_mse_empty()"
      ]
    },
    {
      "cell_type": "markdown",
      "metadata": {
        "id": "vpIPKL439zkw"
      },
      "source": [
        "# Задача 6\n",
        "Написать функцию, принимающая целое положительное число. Функция должна вернуть\n",
        "строку вида “(n1**p1)(n2**p2)…(nk**pk)” представляющая разложение числа на простые\n",
        "множители (если pi == 1, то выводить только ni).\n",
        "Например, для числа 86240 функция должна вернуть “(2**5)(5)(7**2)(11)”. Написать тесты для кода"
      ]
    },
    {
      "cell_type": "code",
      "execution_count": 72,
      "metadata": {
        "id": "pFebmcZk94Jw"
      },
      "outputs": [
        {
          "name": "stdout",
          "output_type": "stream",
          "text": [
            "(7)\n"
          ]
        }
      ],
      "source": [
        "def find_factors(n):\n",
        "    if n == 1:\n",
        "        return \"(1)\"\n",
        "    if n <= 0 :\n",
        "        raise ValueError(\"should be more than 0\")\n",
        "    factors = []\n",
        "    d = 2\n",
        "    while d * d <= n:\n",
        "        count = 0\n",
        "        while n % d == 0:\n",
        "            n //= d\n",
        "            count += 1\n",
        "        if count > 0 :\n",
        "            if count == 1:\n",
        "                factors.append(f\"({d})\")\n",
        "            else:\n",
        "                factors.append(f\"({d}**{count})\")\n",
        "        d += 1\n",
        "    if n > 1:\n",
        "        factors.append(f\"({n})\")\n",
        "    return(\"\".join(factors))\n",
        "\n",
        "print(find_factors(7))"
      ]
    },
    {
      "cell_type": "code",
      "execution_count": 73,
      "metadata": {},
      "outputs": [],
      "source": [
        "import pytest\n",
        "\n",
        "def test_find_factors():\n",
        "    res = \"(13)\"\n",
        "    assert(find_factors(13) == res)\n",
        "\n",
        "    res = \"(2**6)\"\n",
        "    assert(find_factors(64) == res)\n",
        "\n",
        "    res = \"(1)\"\n",
        "    assert(find_factors(1) == res)\n",
        "\n",
        "    res = \"(2)(3)(5)\"\n",
        "    assert(find_factors(30) == res)\n",
        "\n",
        "    res = \"(3**2)(3607)(3803)\"\n",
        "    assert(find_factors(123456789) == res)\n",
        "    \n",
        "\n",
        "\n",
        "\n",
        "def test_test_find_factors_negativ():\n",
        "    with pytest.raises(ValueError):\n",
        "        find_factors(-333)\n",
        "\n",
        "test_find_factors()\n",
        "test_test_find_factors_negativ()\n"
      ]
    },
    {
      "cell_type": "markdown",
      "metadata": {
        "id": "ps2s0BudX7A2"
      },
      "source": [
        "# Задача 7\n",
        "Написать функцию, принимающая целое число n, задающее количество кубиков. Функция\n",
        "должна определить, можно ли из данного кол-ва кубиков построить пирамиду, то есть\n",
        "можно ли представить число n как 1^2+2^2+3^2+…+k^2. Если можно, то функция должна\n",
        "вернуть k, иначе строку “It is impossible”. Написать тесты для кода"
      ]
    },
    {
      "cell_type": "code",
      "execution_count": 2,
      "metadata": {
        "id": "3YPjEXxhX_YT"
      },
      "outputs": [],
      "source": [
        "def pyramid(number):\n",
        "    high = 1\n",
        "    while (high * (high + 1) * (2 * high + 1)) // 6 <= number:\n",
        "        high *= 2\n",
        "\n",
        "    low = 1\n",
        "    while low <= high:\n",
        "        mid = (low + high) // 2\n",
        "        current_sum = mid * (mid + 1) * (2 * mid + 1) // 6\n",
        "        if current_sum == number:\n",
        "            return mid\n",
        "        elif current_sum < number:\n",
        "            low = mid + 1\n",
        "        else:\n",
        "            high = mid - 1\n",
        "    return \"It is impossible\" \n"
      ]
    },
    {
      "cell_type": "code",
      "execution_count": 3,
      "metadata": {},
      "outputs": [],
      "source": [
        "import pytest\n",
        "\n",
        "def test_pyramid():\n",
        "    assert (pyramid(0) == \"It is impossible\")\n",
        "    assert (pyramid(5) == 2)\n",
        "    assert (pyramid(14) == 3)\n",
        "    assert (pyramid(30) == 4)\n",
        "    assert (pyramid(2) == \"It is impossible\")\n",
        "    assert (pyramid(55) == 5)\n",
        "    assert (pyramid(100000) == \"It is impossible\")\n",
        "    assert (pyramid(102510) == 67)\n",
        "    assert (pyramid(-100000) == \"It is impossible\")\n",
        "    \n",
        "    \n",
        "test_pyramid()\n",
        "\n"
      ]
    },
    {
      "cell_type": "markdown",
      "metadata": {
        "id": "KeKgmIdAQMEJ"
      },
      "source": [
        "# Задача 8\n",
        "Функция принимает на вход положительное число и определяет является ли оно сбалансированным, т.е. сумма цифр до средних равна сумме цифр после. Средними в случае нечетного числа цифр считать одну цифру, в случае четного - две средних. Написать тесты для кода"
      ]
    },
    {
      "cell_type": "code",
      "execution_count": 4,
      "metadata": {
        "id": "gMAAqtqlQrZt"
      },
      "outputs": [
        {
          "name": "stdout",
          "output_type": "stream",
          "text": [
            "False\n"
          ]
        }
      ],
      "source": [
        "def is_balanced(number):\n",
        "    if number < 0 :\n",
        "        raise ValueError(\"should be more than 0\")\n",
        "    \n",
        "    string_num = str(number)\n",
        "    n = len(string_num)\n",
        "    if n % 2 == 0:\n",
        "        right_sum = sum(int(e) for e in string_num[n // 2 :])\n",
        "    else:\n",
        "        right_sum = sum(int(e) for e in string_num[n // 2 + 1 :])\n",
        "    left_sum = sum(int(e) for e in string_num[:n // 2])\n",
        "    \n",
        "    if left_sum == right_sum:\n",
        "        return True\n",
        "    return False\n",
        "print(is_balanced(10))\n"
      ]
    },
    {
      "cell_type": "code",
      "execution_count": 5,
      "metadata": {},
      "outputs": [],
      "source": [
        "def test_is_balanced():\n",
        "    assert (is_balanced(1) == True)\n",
        "\n",
        "    assert (is_balanced(10) == False)\n",
        "    assert (is_balanced(11) == True)\n",
        "\n",
        "    assert (is_balanced(121) == True)\n",
        "    assert (is_balanced(123) == False)\n",
        "\n",
        "    assert (is_balanced(1230) == True)\n",
        "    assert (is_balanced(1234) == False)\n",
        "\n",
        "    assert (is_balanced(12321) == True)\n",
        "    assert (is_balanced(12345) == False)\n",
        "\n",
        "    assert (is_balanced(12345654321) == True)\n",
        "    assert (is_balanced(123456789) == False)\n",
        "    \n",
        "    \n",
        "test_is_balanced()\n",
        "\n"
      ]
    }
  ],
  "metadata": {
    "colab": {
      "provenance": []
    },
    "kernelspec": {
      "display_name": "Python 3",
      "name": "python3"
    },
    "language_info": {
      "codemirror_mode": {
        "name": "ipython",
        "version": 3
      },
      "file_extension": ".py",
      "mimetype": "text/x-python",
      "name": "python",
      "nbconvert_exporter": "python",
      "pygments_lexer": "ipython3",
      "version": "3.12.1"
    }
  },
  "nbformat": 4,
  "nbformat_minor": 0
}
